{
 "cells": [
  {
   "cell_type": "code",
   "execution_count": 5,
   "id": "d3c0f058-f214-4321-83ff-44be7e5b353c",
   "metadata": {},
   "outputs": [],
   "source": [
    "import os\n",
    "\n",
    "# Path to your PBIX file\n",
    "pbix_path = r\"C:\\Users\\DELL\\OneDrive\\Desktop\\final dashboard1.pbix\"\n",
    "\n",
    "# Open the PBIX file in Power BI Desktop\n",
    "os.startfile(pbix_path)\n",
    "\n"
   ]
  },
  {
   "cell_type": "code",
   "execution_count": null,
   "id": "1758d62b-ac93-4ed2-8387-dd4c5487eb16",
   "metadata": {},
   "outputs": [],
   "source": []
  },
  {
   "cell_type": "code",
   "execution_count": null,
   "id": "bdad7bb0-5488-4dc7-8277-9999ac757c3e",
   "metadata": {},
   "outputs": [],
   "source": []
  },
  {
   "cell_type": "code",
   "execution_count": null,
   "id": "7a1dab6f-4454-496e-840e-83d27a482443",
   "metadata": {},
   "outputs": [],
   "source": []
  }
 ],
 "metadata": {
  "kernelspec": {
   "display_name": "Python 3",
   "language": "python",
   "name": "python3"
  },
  "language_info": {
   "codemirror_mode": {
    "name": "ipython",
    "version": 3
   },
   "file_extension": ".py",
   "mimetype": "text/x-python",
   "name": "python",
   "nbconvert_exporter": "python",
   "pygments_lexer": "ipython3",
   "version": "3.13.5"
  }
 },
 "nbformat": 4,
 "nbformat_minor": 5
}
